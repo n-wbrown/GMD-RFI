{
 "cells": [
  {
   "cell_type": "code",
   "execution_count": null,
   "metadata": {},
   "outputs": [],
   "source": [
    "import numpy as np\n",
    "import pandas\n",
    "from bokeh.plotting import figure, show\n",
    "from bokeh.core.properties import value\n",
    "from bokeh.models import ColumnDataSource\n",
    "from bokeh.io import output_notebook"
   ]
  },
  {
   "cell_type": "code",
   "execution_count": null,
   "metadata": {},
   "outputs": [],
   "source": [
    "output_notebook()"
   ]
  },
  {
   "cell_type": "code",
   "execution_count": null,
   "metadata": {},
   "outputs": [],
   "source": [
    "beckhoff_scope_csv_conf = {\n",
    "    \"header\": 23,    \n",
    "    \"names\": [\"Time\",\"GPI_10\",\"GPI_40\"],\n",
    "    \"index_col\": 0,\n",
    "    \"usecols\": [0,1,3],\n",
    "    \"dtype\": {\"Time\":np.float32,\"GPI_10\":np.float32,\"GPI_40\":np.float32},\n",
    "    \"skipfooter\": 1,\n",
    "    \"engine\": \"python\", # so I don't get errors w/ skipfooter\n",
    "}\n",
    "\n",
    "with open('190702 - 1400.csv') as f: \n",
    "    file_1400 = pandas.read_csv(f,**beckhoff_scope_csv_conf)\n",
    "\n",
    "with open('190702 - 1408.csv') as f: \n",
    "    file_1408 = pandas.read_csv(f,**beckhoff_scope_csv_conf)\n",
    "    \n",
    "with open('190702 - 1415.csv') as f: \n",
    "    file_1415 = pandas.read_csv(f,**beckhoff_scope_csv_conf)\n"
   ]
  },
  {
   "cell_type": "code",
   "execution_count": null,
   "metadata": {},
   "outputs": [],
   "source": [
    "def quick_plotter(df):\n",
    "    source = ColumnDataSource(data=df)\n",
    "\n",
    "    f = figure(plot_width=900, plot_height=400, output_backend=\"webgl\")\n",
    "    f.xaxis.axis_label=\"time (ms)\"\n",
    "    f.yaxis.axis_label=\"torr\"\n",
    "#     f.circle(x='Time', y='GPI_10', source=source, radius=30, color=\"red\", legend=value(\"GPI_10\"))\n",
    "#     f.circle(x='Time', y='GPI_40', source=source, radius=30, color=\"blue\", legend=value(\"GPI_40\"))\n",
    "    f.circle(x='Time', y='GPI_10', source=source, color=\"red\", legend=value(\"GPI_10\"))\n",
    "    f.circle(x='Time', y='GPI_40', source=source, color=\"blue\", legend=value(\"GPI_40\"))\n",
    "    print(\"GPI_10 maximum:\", df.loc[:,'GPI_10'].max())\n",
    "    print(\"GPI_40 maximum:\", df.loc[:,'GPI_40'].max())\n",
    "    \n",
    "    f.legend.location = \"top_right\"\n",
    "    f.legend.click_policy=\"hide\"\n",
    "\n",
    "    show(f)\n",
    "    return f\n",
    "    "
   ]
  },
  {
   "cell_type": "code",
   "execution_count": null,
   "metadata": {},
   "outputs": [],
   "source": [
    "quick_plotter(file_1400)"
   ]
  },
  {
   "cell_type": "code",
   "execution_count": null,
   "metadata": {},
   "outputs": [],
   "source": [
    "quick_plotter(file_1408)"
   ]
  },
  {
   "cell_type": "code",
   "execution_count": null,
   "metadata": {},
   "outputs": [],
   "source": [
    "quick_plotter(file_1415)"
   ]
  },
  {
   "cell_type": "code",
   "execution_count": null,
   "metadata": {},
   "outputs": [],
   "source": [
    "file_1400.index.values[[0,-1]]"
   ]
  },
  {
   "cell_type": "code",
   "execution_count": null,
   "metadata": {},
   "outputs": [],
   "source": [
    "#22:15.583\n",
    "#23:26.623\n",
    "\n",
    "((23-22)*60 + 26-15) * 1000 + (.623-.583)"
   ]
  },
  {
   "cell_type": "code",
   "execution_count": null,
   "metadata": {},
   "outputs": [],
   "source": []
  }
 ],
 "metadata": {
  "kernelspec": {
   "display_name": "Python 3",
   "language": "python",
   "name": "python3"
  },
  "language_info": {
   "codemirror_mode": {
    "name": "ipython",
    "version": 3
   },
   "file_extension": ".py",
   "mimetype": "text/x-python",
   "name": "python",
   "nbconvert_exporter": "python",
   "pygments_lexer": "ipython3",
   "version": "3.7.1"
  }
 },
 "nbformat": 4,
 "nbformat_minor": 2
}
